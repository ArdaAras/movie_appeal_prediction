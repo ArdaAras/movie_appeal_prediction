{
 "cells": [
  {
   "cell_type": "code",
   "execution_count": 31,
   "id": "bf9f8f99-fe4b-4797-91f1-0a9c1994e5cf",
   "metadata": {},
   "outputs": [],
   "source": [
    "from pyspark.sql import SparkSession\n",
    "from pyspark.sql.functions import col, year, when, udf, from_json, max, rand\n",
    "from pyspark.sql.types import ArrayType, FloatType, StructType, StructField, StringType, IntegerType, DoubleType\n",
    "import json\n",
    "import boto3"
   ]
  },
  {
   "cell_type": "code",
   "execution_count": 32,
   "id": "45f7d38c-c6a6-4147-a383-05ce0578d91c",
   "metadata": {},
   "outputs": [],
   "source": [
    "# test the client\n",
    "#client = boto3.client('sagemaker')\n",
    "#response = client.list_endpoints()\n",
    "#print(response)"
   ]
  },
  {
   "cell_type": "code",
   "execution_count": 33,
   "id": "1fafb5f7-c1a5-4225-867b-3599c4ae41fa",
   "metadata": {},
   "outputs": [],
   "source": [
    "spark = SparkSession.builder \\\n",
    ".appName(\"training_data_prep\") \\\n",
    ".getOrCreate()"
   ]
  },
  {
   "cell_type": "code",
   "execution_count": 34,
   "id": "ebb3cabc-159f-4e7a-9def-1758b9adaeeb",
   "metadata": {},
   "outputs": [
    {
     "name": "stderr",
     "output_type": "stream",
     "text": [
      "                                                                                \r"
     ]
    }
   ],
   "source": [
    "df = spark.read.json(\"datasets/movies_9858.json\", multiLine=True)"
   ]
  },
  {
   "cell_type": "code",
   "execution_count": 35,
   "id": "d01680d0-98d4-4b34-a5cd-aa674255c85b",
   "metadata": {},
   "outputs": [
    {
     "name": "stdout",
     "output_type": "stream",
     "text": [
      "root\n",
      " |-- adult: boolean (nullable = true)\n",
      " |-- backdrop_path: string (nullable = true)\n",
      " |-- genre_ids: array (nullable = true)\n",
      " |    |-- element: long (containsNull = true)\n",
      " |-- id: long (nullable = true)\n",
      " |-- original_language: string (nullable = true)\n",
      " |-- original_title: string (nullable = true)\n",
      " |-- overview: string (nullable = true)\n",
      " |-- popularity: double (nullable = true)\n",
      " |-- poster_path: string (nullable = true)\n",
      " |-- release_date: string (nullable = true)\n",
      " |-- title: string (nullable = true)\n",
      " |-- video: boolean (nullable = true)\n",
      " |-- vote_average: double (nullable = true)\n",
      " |-- vote_count: long (nullable = true)\n",
      "\n"
     ]
    }
   ],
   "source": [
    "df.printSchema()"
   ]
  },
  {
   "cell_type": "code",
   "execution_count": 36,
   "id": "a98b24ff-f646-4f9a-ab90-11bc9ebeead8",
   "metadata": {},
   "outputs": [
    {
     "data": {
      "text/plain": [
       "9858"
      ]
     },
     "execution_count": 36,
     "metadata": {},
     "output_type": "execute_result"
    }
   ],
   "source": [
    "df.count()"
   ]
  },
  {
   "cell_type": "markdown",
   "id": "f8b67331-6303-4c44-b59b-260dbc7bd1e6",
   "metadata": {},
   "source": [
    "## Drop Unnecessary Columns"
   ]
  },
  {
   "cell_type": "code",
   "execution_count": 37,
   "id": "c8feeea0-f0b9-45df-bf7f-60b0b8283dcc",
   "metadata": {},
   "outputs": [],
   "source": [
    "drop_cols = ['adult', 'backdrop_path', 'original_language', 'original_title', 'poster_path', 'video']\n",
    "\n",
    "df_dropped_cols = df.drop(*drop_cols)"
   ]
  },
  {
   "cell_type": "markdown",
   "id": "6225f5c5-eb9e-430f-91e9-ee070efe3594",
   "metadata": {},
   "source": [
    "## Drop duplicates and records where any of the ['vote_average', 'release_date', 'overview'] is NA"
   ]
  },
  {
   "cell_type": "code",
   "execution_count": 38,
   "id": "3b6a81ff-01ad-40f7-963e-94bf56f17cab",
   "metadata": {},
   "outputs": [
    {
     "data": {
      "text/plain": [
       "9858"
      ]
     },
     "execution_count": 38,
     "metadata": {},
     "output_type": "execute_result"
    }
   ],
   "source": [
    "df_na_drop = df_dropped_cols.dropna(subset=['vote_average', 'release_date', 'overview'])\n",
    "#df_na_drop.dropDuplicates()\n",
    "df_na_drop.count()"
   ]
  },
  {
   "cell_type": "markdown",
   "id": "92721439-b69f-4c70-b07b-9abdad528b8d",
   "metadata": {},
   "source": [
    "## Fix column order"
   ]
  },
  {
   "cell_type": "code",
   "execution_count": 39,
   "id": "6b0d32fb-fdfc-49f4-bcc2-076cac04aa56",
   "metadata": {},
   "outputs": [
    {
     "name": "stdout",
     "output_type": "stream",
     "text": [
      "root\n",
      " |-- id: long (nullable = true)\n",
      " |-- title: string (nullable = true)\n",
      " |-- overview: string (nullable = true)\n",
      " |-- release_date: string (nullable = true)\n",
      " |-- genre_ids: array (nullable = true)\n",
      " |    |-- element: long (containsNull = true)\n",
      " |-- popularity: double (nullable = true)\n",
      " |-- vote_average: double (nullable = true)\n",
      " |-- vote_count: long (nullable = true)\n",
      "\n"
     ]
    }
   ],
   "source": [
    "df = df_na_drop.select('id', 'title', 'overview', 'release_date', 'genre_ids', 'popularity', 'vote_average', 'vote_count')\n",
    "df.printSchema()"
   ]
  },
  {
   "cell_type": "markdown",
   "id": "a6937b17-0577-44be-8505-026015bd26c0",
   "metadata": {},
   "source": [
    "## Fix column types"
   ]
  },
  {
   "cell_type": "code",
   "execution_count": 40,
   "id": "9d144d35-7e43-420c-9395-4919de40cca2",
   "metadata": {},
   "outputs": [
    {
     "data": {
      "text/plain": [
       "\"\\nschema = ArrayType(IntegerType())\\n\\ndf = df.withColumn('id', col('id').cast(IntegerType()))\\ndf = df.withColumn('popularity', col('popularity').cast(DoubleType()))\\ndf = df.withColumn('vote_average', col('vote_average').cast(DoubleType()))\\ndf = df.withColumn('vote_count', col('vote_count').cast(IntegerType()))\\ndf = df.withColumn('genre_ids', from_json(col('genre_ids'), schema))  # Parse JSON string to array\\ndf.printSchema()\\n\""
      ]
     },
     "execution_count": 40,
     "metadata": {},
     "output_type": "execute_result"
    }
   ],
   "source": [
    "# Define the schema for genre_ids\n",
    "'''\n",
    "schema = ArrayType(IntegerType())\n",
    "\n",
    "df = df.withColumn('id', col('id').cast(IntegerType()))\n",
    "df = df.withColumn('popularity', col('popularity').cast(DoubleType()))\n",
    "df = df.withColumn('vote_average', col('vote_average').cast(DoubleType()))\n",
    "df = df.withColumn('vote_count', col('vote_count').cast(IntegerType()))\n",
    "df = df.withColumn('genre_ids', from_json(col('genre_ids'), schema))  # Parse JSON string to array\n",
    "df.printSchema()\n",
    "'''"
   ]
  },
  {
   "cell_type": "markdown",
   "id": "1da0ee68-2741-42fb-b388-34a8d8b6ec98",
   "metadata": {},
   "source": [
    "## Extract year from relase date, add 'is_sci_fi' and 'sci_fi_appeal' columns"
   ]
  },
  {
   "cell_type": "code",
   "execution_count": 41,
   "id": "84f7b788-c2c3-459e-855a-16007d9887fb",
   "metadata": {},
   "outputs": [
    {
     "name": "stdout",
     "output_type": "stream",
     "text": [
      "root\n",
      " |-- id: long (nullable = true)\n",
      " |-- title: string (nullable = true)\n",
      " |-- overview: string (nullable = true)\n",
      " |-- release_date: string (nullable = true)\n",
      " |-- popularity: double (nullable = true)\n",
      " |-- vote_average: double (nullable = true)\n",
      " |-- vote_count: long (nullable = true)\n",
      " |-- release_year: integer (nullable = true)\n",
      " |-- is_sci_fi: integer (nullable = false)\n",
      " |-- sci_fi_appeal: integer (nullable = false)\n",
      "\n"
     ]
    }
   ],
   "source": [
    "df = df.withColumn('release_year', year(col('release_date')))\n",
    "df = df.withColumn('is_sci_fi', when(col('genre_ids').cast('string').contains('878'), 1).otherwise(0))\n",
    "df = df.withColumn('sci_fi_appeal', when((col('vote_average') > 6) & (col('is_sci_fi') == 1), 1).otherwise(0))\n",
    "\n",
    "df = df.drop(col('genre_ids')) # we do not need this anymore for training\n",
    "                 \n",
    "df.printSchema()"
   ]
  },
  {
   "cell_type": "markdown",
   "id": "874390a8-401c-4b35-a163-fd55b044b6ce",
   "metadata": {},
   "source": [
    "## Filter out low-quality data and empty overview records "
   ]
  },
  {
   "cell_type": "code",
   "execution_count": 42,
   "id": "fd958880-e2d0-46d6-9111-6af5c9136090",
   "metadata": {},
   "outputs": [
    {
     "data": {
      "text/plain": [
       "9016"
      ]
     },
     "execution_count": 42,
     "metadata": {},
     "output_type": "execute_result"
    }
   ],
   "source": [
    "df = df.filter(col('vote_count') >= 10)\n",
    "df = df.filter(col('overview') != '')  # Filter out empty overview strings, sagemaker endpoint requires non-empty values\n",
    "df.count()\n",
    "# from 9858 to 9016"
   ]
  },
  {
   "cell_type": "markdown",
   "id": "137a8663-7a25-4375-92d1-39345bb472af",
   "metadata": {},
   "source": [
    "## Check the distribution of 'sci_fi_appeal' column"
   ]
  },
  {
   "cell_type": "code",
   "execution_count": 43,
   "id": "e0a7be20-484d-45ac-b479-3bb8fa41aa52",
   "metadata": {},
   "outputs": [
    {
     "name": "stdout",
     "output_type": "stream",
     "text": [
      "+-------------+-----+\n",
      "|sci_fi_appeal|count|\n",
      "+-------------+-----+\n",
      "|            1|  833|\n",
      "|            0| 8183|\n",
      "+-------------+-----+\n",
      "\n"
     ]
    }
   ],
   "source": [
    "df.groupBy('sci_fi_appeal').count().show()"
   ]
  },
  {
   "cell_type": "code",
   "execution_count": 44,
   "id": "be17db87-8c2d-40f9-a68e-30fe664645c6",
   "metadata": {},
   "outputs": [
    {
     "name": "stdout",
     "output_type": "stream",
     "text": [
      "+-------------+-----+\n",
      "|sci_fi_appeal|count|\n",
      "+-------------+-----+\n",
      "|            1|  500|\n",
      "|            0|  500|\n",
      "+-------------+-----+\n",
      "\n"
     ]
    }
   ],
   "source": [
    "# Create balanced dataset with 1000 records\n",
    "df_positive = df.filter(col('sci_fi_appeal') == 1).limit(500)\n",
    "df_negative = df.filter(col('sci_fi_appeal') == 0).limit(500)\n",
    "\n",
    "# Combine to get 1,000 records\n",
    "df_balanced = df_positive.union(df_negative)\n",
    "\n",
    "# Verify the new distribution\n",
    "df_balanced.groupBy('sci_fi_appeal').count().show()\n",
    "# Should show: 500 for sci_fi_appeal = 1, 500 for sci_fi_appeal = 0"
   ]
  },
  {
   "cell_type": "code",
   "execution_count": 45,
   "id": "13bacd1b-889e-473a-8bb4-3b4745ae21e7",
   "metadata": {},
   "outputs": [
    {
     "name": "stdout",
     "output_type": "stream",
     "text": [
      "root\n",
      " |-- id: long (nullable = true)\n",
      " |-- title: string (nullable = true)\n",
      " |-- overview: string (nullable = true)\n",
      " |-- release_date: string (nullable = true)\n",
      " |-- popularity: double (nullable = true)\n",
      " |-- vote_average: double (nullable = true)\n",
      " |-- vote_count: long (nullable = true)\n",
      " |-- release_year: integer (nullable = true)\n",
      " |-- is_sci_fi: integer (nullable = false)\n",
      " |-- sci_fi_appeal: integer (nullable = false)\n",
      "\n"
     ]
    }
   ],
   "source": [
    "df_balanced.printSchema()"
   ]
  },
  {
   "cell_type": "code",
   "execution_count": 46,
   "id": "d1304189-fb81-41e2-856d-195e8bf6236d",
   "metadata": {},
   "outputs": [
    {
     "data": {
      "text/plain": [
       "1000"
      ]
     },
     "execution_count": 46,
     "metadata": {},
     "output_type": "execute_result"
    }
   ],
   "source": [
    "df_balanced.count()"
   ]
  },
  {
   "cell_type": "markdown",
   "id": "9aecd2d0-83da-41f5-9b1a-042341672bf4",
   "metadata": {},
   "source": [
    "## Get embeddings from sentence-transformers/all-MiniLM-L6-v2 model hosted on SageMaker "
   ]
  },
  {
   "cell_type": "code",
   "execution_count": 47,
   "id": "fd9324f3-8139-4850-81b7-02c69c0a0145",
   "metadata": {},
   "outputs": [],
   "source": [
    "# Function to call SageMaker endpoint\n",
    "def get_embeddings(overview):\n",
    "    client = boto3.client('sagemaker-runtime')\n",
    "    response = client.invoke_endpoint(\n",
    "        EndpointName='sentence-embedding-endpoint',\n",
    "        ContentType='application/json',\n",
    "        Body=json.dumps({'inputs': overview})\n",
    "    )\n",
    "    embeddings = json.loads(response['Body'].read().decode())[0]  # Shape: (384,)\n",
    "    return embeddings\n",
    "\n",
    "# Register UDF\n",
    "get_embeddings_udf = udf(get_embeddings, ArrayType(FloatType()))\n",
    "\n",
    "# Apply to DataFrame\n",
    "df_balanced = df_balanced.withColumn('overview_embedding', get_embeddings_udf(col('overview')))"
   ]
  },
  {
   "cell_type": "code",
   "execution_count": 48,
   "id": "26fc9b21-ae35-4094-ae18-83f196b948d1",
   "metadata": {},
   "outputs": [
    {
     "name": "stdout",
     "output_type": "stream",
     "text": [
      "root\n",
      " |-- id: long (nullable = true)\n",
      " |-- title: string (nullable = true)\n",
      " |-- overview: string (nullable = true)\n",
      " |-- release_date: string (nullable = true)\n",
      " |-- popularity: double (nullable = true)\n",
      " |-- vote_average: double (nullable = true)\n",
      " |-- vote_count: long (nullable = true)\n",
      " |-- release_year: integer (nullable = true)\n",
      " |-- is_sci_fi: integer (nullable = false)\n",
      " |-- sci_fi_appeal: integer (nullable = false)\n",
      " |-- overview_embedding: array (nullable = true)\n",
      " |    |-- element: float (containsNull = true)\n",
      "\n"
     ]
    }
   ],
   "source": [
    "df_balanced.printSchema()"
   ]
  },
  {
   "cell_type": "code",
   "execution_count": 49,
   "id": "228a02ff-5ecc-4812-8149-747f2976b835",
   "metadata": {},
   "outputs": [
    {
     "name": "stderr",
     "output_type": "stream",
     "text": [
      "                                                                                \r"
     ]
    },
    {
     "data": {
      "text/html": [
       "<div>\n",
       "<style scoped>\n",
       "    .dataframe tbody tr th:only-of-type {\n",
       "        vertical-align: middle;\n",
       "    }\n",
       "\n",
       "    .dataframe tbody tr th {\n",
       "        vertical-align: top;\n",
       "    }\n",
       "\n",
       "    .dataframe thead th {\n",
       "        text-align: right;\n",
       "    }\n",
       "</style>\n",
       "<table border=\"1\" class=\"dataframe\">\n",
       "  <thead>\n",
       "    <tr style=\"text-align: right;\">\n",
       "      <th></th>\n",
       "      <th>id</th>\n",
       "      <th>title</th>\n",
       "      <th>overview</th>\n",
       "      <th>release_date</th>\n",
       "      <th>popularity</th>\n",
       "      <th>vote_average</th>\n",
       "      <th>vote_count</th>\n",
       "      <th>release_year</th>\n",
       "      <th>is_sci_fi</th>\n",
       "      <th>sci_fi_appeal</th>\n",
       "      <th>overview_embedding</th>\n",
       "    </tr>\n",
       "  </thead>\n",
       "  <tbody>\n",
       "    <tr>\n",
       "      <th>0</th>\n",
       "      <td>822119</td>\n",
       "      <td>Captain America: Brave New World</td>\n",
       "      <td>After meeting with newly elected U.S. Presiden...</td>\n",
       "      <td>2025-02-12</td>\n",
       "      <td>285.4807</td>\n",
       "      <td>6.116</td>\n",
       "      <td>1275</td>\n",
       "      <td>2025</td>\n",
       "      <td>1</td>\n",
       "      <td>1</td>\n",
       "      <td>[-0.07376226782798767, -0.04669279232621193, -...</td>\n",
       "    </tr>\n",
       "    <tr>\n",
       "      <th>1</th>\n",
       "      <td>696506</td>\n",
       "      <td>Mickey 17</td>\n",
       "      <td>Unlikely hero Mickey Barnes finds himself in t...</td>\n",
       "      <td>2025-02-28</td>\n",
       "      <td>236.5855</td>\n",
       "      <td>6.940</td>\n",
       "      <td>1441</td>\n",
       "      <td>2025</td>\n",
       "      <td>1</td>\n",
       "      <td>1</td>\n",
       "      <td>[-0.014793258160352707, 0.007633930072188377, ...</td>\n",
       "    </tr>\n",
       "    <tr>\n",
       "      <th>2</th>\n",
       "      <td>1165067</td>\n",
       "      <td>Cosmic Chaos</td>\n",
       "      <td>Battles in virtual reality, survival in a post...</td>\n",
       "      <td>2023-08-03</td>\n",
       "      <td>170.0328</td>\n",
       "      <td>6.022</td>\n",
       "      <td>45</td>\n",
       "      <td>2023</td>\n",
       "      <td>1</td>\n",
       "      <td>1</td>\n",
       "      <td>[0.03736811503767967, 0.026995297521352768, -0...</td>\n",
       "    </tr>\n",
       "    <tr>\n",
       "      <th>3</th>\n",
       "      <td>939243</td>\n",
       "      <td>Sonic the Hedgehog 3</td>\n",
       "      <td>Sonic, Knuckles, and Tails reunite against a p...</td>\n",
       "      <td>2024-12-19</td>\n",
       "      <td>154.1998</td>\n",
       "      <td>7.740</td>\n",
       "      <td>2394</td>\n",
       "      <td>2024</td>\n",
       "      <td>1</td>\n",
       "      <td>1</td>\n",
       "      <td>[-0.028525710105895996, -0.04687212035059929, ...</td>\n",
       "    </tr>\n",
       "    <tr>\n",
       "      <th>4</th>\n",
       "      <td>950396</td>\n",
       "      <td>The Gorge</td>\n",
       "      <td>Two highly trained operatives grow close from ...</td>\n",
       "      <td>2025-02-13</td>\n",
       "      <td>92.0002</td>\n",
       "      <td>7.727</td>\n",
       "      <td>2326</td>\n",
       "      <td>2025</td>\n",
       "      <td>1</td>\n",
       "      <td>1</td>\n",
       "      <td>[-0.045688461512327194, 0.004364991094917059, ...</td>\n",
       "    </tr>\n",
       "  </tbody>\n",
       "</table>\n",
       "</div>"
      ],
      "text/plain": [
       "        id                             title  \\\n",
       "0   822119  Captain America: Brave New World   \n",
       "1   696506                         Mickey 17   \n",
       "2  1165067                      Cosmic Chaos   \n",
       "3   939243              Sonic the Hedgehog 3   \n",
       "4   950396                         The Gorge   \n",
       "\n",
       "                                            overview release_date  popularity  \\\n",
       "0  After meeting with newly elected U.S. Presiden...   2025-02-12    285.4807   \n",
       "1  Unlikely hero Mickey Barnes finds himself in t...   2025-02-28    236.5855   \n",
       "2  Battles in virtual reality, survival in a post...   2023-08-03    170.0328   \n",
       "3  Sonic, Knuckles, and Tails reunite against a p...   2024-12-19    154.1998   \n",
       "4  Two highly trained operatives grow close from ...   2025-02-13     92.0002   \n",
       "\n",
       "   vote_average  vote_count  release_year  is_sci_fi  sci_fi_appeal  \\\n",
       "0         6.116        1275          2025          1              1   \n",
       "1         6.940        1441          2025          1              1   \n",
       "2         6.022          45          2023          1              1   \n",
       "3         7.740        2394          2024          1              1   \n",
       "4         7.727        2326          2025          1              1   \n",
       "\n",
       "                                  overview_embedding  \n",
       "0  [-0.07376226782798767, -0.04669279232621193, -...  \n",
       "1  [-0.014793258160352707, 0.007633930072188377, ...  \n",
       "2  [0.03736811503767967, 0.026995297521352768, -0...  \n",
       "3  [-0.028525710105895996, -0.04687212035059929, ...  \n",
       "4  [-0.045688461512327194, 0.004364991094917059, ...  "
      ]
     },
     "execution_count": 49,
     "metadata": {},
     "output_type": "execute_result"
    }
   ],
   "source": [
    "df_balanced.limit(5).toPandas()"
   ]
  },
  {
   "cell_type": "markdown",
   "id": "0695a5f3-8788-4427-980f-d423882c8b65",
   "metadata": {},
   "source": [
    "## Select features"
   ]
  },
  {
   "cell_type": "code",
   "execution_count": 65,
   "id": "3e46974e-e3e4-41de-abdf-ce80a97b1522",
   "metadata": {},
   "outputs": [
    {
     "name": "stdout",
     "output_type": "stream",
     "text": [
      "root\n",
      " |-- sci_fi_appeal: integer (nullable = false)\n",
      " |-- popularity: double (nullable = true)\n",
      " |-- vote_count: long (nullable = true)\n",
      " |-- vote_average: double (nullable = true)\n",
      " |-- release_year: integer (nullable = true)\n",
      " |-- overview_embedding: array (nullable = true)\n",
      " |    |-- element: float (containsNull = true)\n",
      "\n"
     ]
    }
   ],
   "source": [
    "df_balanced = df_balanced.select('sci_fi_appeal', 'popularity', 'vote_count', 'vote_average', 'release_year', 'overview_embedding')\n",
    "df_balanced.printSchema()\n",
    "\n",
    "embedding_cols = [col('overview_embedding')[i].alias(f'embedding_{i}') for i in range(384)]\n",
    "\n",
    "# Select the columns, including the flattened embeddings\n",
    "df_balanced = df_balanced.select(\n",
    "    'sci_fi_appeal', 'popularity', 'vote_count', 'vote_average', 'release_year', *embedding_cols\n",
    ")"
   ]
  },
  {
   "cell_type": "code",
   "execution_count": 66,
   "id": "1958f14e-c53d-495e-9277-2619597cc063",
   "metadata": {},
   "outputs": [
    {
     "name": "stdout",
     "output_type": "stream",
     "text": [
      "root\n",
      " |-- sci_fi_appeal: integer (nullable = false)\n",
      " |-- popularity: double (nullable = true)\n",
      " |-- vote_count: long (nullable = true)\n",
      " |-- vote_average: double (nullable = true)\n",
      " |-- release_year: integer (nullable = true)\n",
      " |-- embedding_0: float (nullable = true)\n",
      " |-- embedding_1: float (nullable = true)\n",
      " |-- embedding_2: float (nullable = true)\n",
      " |-- embedding_3: float (nullable = true)\n",
      " |-- embedding_4: float (nullable = true)\n",
      " |-- embedding_5: float (nullable = true)\n",
      " |-- embedding_6: float (nullable = true)\n",
      " |-- embedding_7: float (nullable = true)\n",
      " |-- embedding_8: float (nullable = true)\n",
      " |-- embedding_9: float (nullable = true)\n",
      " |-- embedding_10: float (nullable = true)\n",
      " |-- embedding_11: float (nullable = true)\n",
      " |-- embedding_12: float (nullable = true)\n",
      " |-- embedding_13: float (nullable = true)\n",
      " |-- embedding_14: float (nullable = true)\n",
      " |-- embedding_15: float (nullable = true)\n",
      " |-- embedding_16: float (nullable = true)\n",
      " |-- embedding_17: float (nullable = true)\n",
      " |-- embedding_18: float (nullable = true)\n",
      " |-- embedding_19: float (nullable = true)\n",
      " |-- embedding_20: float (nullable = true)\n",
      " |-- embedding_21: float (nullable = true)\n",
      " |-- embedding_22: float (nullable = true)\n",
      " |-- embedding_23: float (nullable = true)\n",
      " |-- embedding_24: float (nullable = true)\n",
      " |-- embedding_25: float (nullable = true)\n",
      " |-- embedding_26: float (nullable = true)\n",
      " |-- embedding_27: float (nullable = true)\n",
      " |-- embedding_28: float (nullable = true)\n",
      " |-- embedding_29: float (nullable = true)\n",
      " |-- embedding_30: float (nullable = true)\n",
      " |-- embedding_31: float (nullable = true)\n",
      " |-- embedding_32: float (nullable = true)\n",
      " |-- embedding_33: float (nullable = true)\n",
      " |-- embedding_34: float (nullable = true)\n",
      " |-- embedding_35: float (nullable = true)\n",
      " |-- embedding_36: float (nullable = true)\n",
      " |-- embedding_37: float (nullable = true)\n",
      " |-- embedding_38: float (nullable = true)\n",
      " |-- embedding_39: float (nullable = true)\n",
      " |-- embedding_40: float (nullable = true)\n",
      " |-- embedding_41: float (nullable = true)\n",
      " |-- embedding_42: float (nullable = true)\n",
      " |-- embedding_43: float (nullable = true)\n",
      " |-- embedding_44: float (nullable = true)\n",
      " |-- embedding_45: float (nullable = true)\n",
      " |-- embedding_46: float (nullable = true)\n",
      " |-- embedding_47: float (nullable = true)\n",
      " |-- embedding_48: float (nullable = true)\n",
      " |-- embedding_49: float (nullable = true)\n",
      " |-- embedding_50: float (nullable = true)\n",
      " |-- embedding_51: float (nullable = true)\n",
      " |-- embedding_52: float (nullable = true)\n",
      " |-- embedding_53: float (nullable = true)\n",
      " |-- embedding_54: float (nullable = true)\n",
      " |-- embedding_55: float (nullable = true)\n",
      " |-- embedding_56: float (nullable = true)\n",
      " |-- embedding_57: float (nullable = true)\n",
      " |-- embedding_58: float (nullable = true)\n",
      " |-- embedding_59: float (nullable = true)\n",
      " |-- embedding_60: float (nullable = true)\n",
      " |-- embedding_61: float (nullable = true)\n",
      " |-- embedding_62: float (nullable = true)\n",
      " |-- embedding_63: float (nullable = true)\n",
      " |-- embedding_64: float (nullable = true)\n",
      " |-- embedding_65: float (nullable = true)\n",
      " |-- embedding_66: float (nullable = true)\n",
      " |-- embedding_67: float (nullable = true)\n",
      " |-- embedding_68: float (nullable = true)\n",
      " |-- embedding_69: float (nullable = true)\n",
      " |-- embedding_70: float (nullable = true)\n",
      " |-- embedding_71: float (nullable = true)\n",
      " |-- embedding_72: float (nullable = true)\n",
      " |-- embedding_73: float (nullable = true)\n",
      " |-- embedding_74: float (nullable = true)\n",
      " |-- embedding_75: float (nullable = true)\n",
      " |-- embedding_76: float (nullable = true)\n",
      " |-- embedding_77: float (nullable = true)\n",
      " |-- embedding_78: float (nullable = true)\n",
      " |-- embedding_79: float (nullable = true)\n",
      " |-- embedding_80: float (nullable = true)\n",
      " |-- embedding_81: float (nullable = true)\n",
      " |-- embedding_82: float (nullable = true)\n",
      " |-- embedding_83: float (nullable = true)\n",
      " |-- embedding_84: float (nullable = true)\n",
      " |-- embedding_85: float (nullable = true)\n",
      " |-- embedding_86: float (nullable = true)\n",
      " |-- embedding_87: float (nullable = true)\n",
      " |-- embedding_88: float (nullable = true)\n",
      " |-- embedding_89: float (nullable = true)\n",
      " |-- embedding_90: float (nullable = true)\n",
      " |-- embedding_91: float (nullable = true)\n",
      " |-- embedding_92: float (nullable = true)\n",
      " |-- embedding_93: float (nullable = true)\n",
      " |-- embedding_94: float (nullable = true)\n",
      " |-- embedding_95: float (nullable = true)\n",
      " |-- embedding_96: float (nullable = true)\n",
      " |-- embedding_97: float (nullable = true)\n",
      " |-- embedding_98: float (nullable = true)\n",
      " |-- embedding_99: float (nullable = true)\n",
      " |-- embedding_100: float (nullable = true)\n",
      " |-- embedding_101: float (nullable = true)\n",
      " |-- embedding_102: float (nullable = true)\n",
      " |-- embedding_103: float (nullable = true)\n",
      " |-- embedding_104: float (nullable = true)\n",
      " |-- embedding_105: float (nullable = true)\n",
      " |-- embedding_106: float (nullable = true)\n",
      " |-- embedding_107: float (nullable = true)\n",
      " |-- embedding_108: float (nullable = true)\n",
      " |-- embedding_109: float (nullable = true)\n",
      " |-- embedding_110: float (nullable = true)\n",
      " |-- embedding_111: float (nullable = true)\n",
      " |-- embedding_112: float (nullable = true)\n",
      " |-- embedding_113: float (nullable = true)\n",
      " |-- embedding_114: float (nullable = true)\n",
      " |-- embedding_115: float (nullable = true)\n",
      " |-- embedding_116: float (nullable = true)\n",
      " |-- embedding_117: float (nullable = true)\n",
      " |-- embedding_118: float (nullable = true)\n",
      " |-- embedding_119: float (nullable = true)\n",
      " |-- embedding_120: float (nullable = true)\n",
      " |-- embedding_121: float (nullable = true)\n",
      " |-- embedding_122: float (nullable = true)\n",
      " |-- embedding_123: float (nullable = true)\n",
      " |-- embedding_124: float (nullable = true)\n",
      " |-- embedding_125: float (nullable = true)\n",
      " |-- embedding_126: float (nullable = true)\n",
      " |-- embedding_127: float (nullable = true)\n",
      " |-- embedding_128: float (nullable = true)\n",
      " |-- embedding_129: float (nullable = true)\n",
      " |-- embedding_130: float (nullable = true)\n",
      " |-- embedding_131: float (nullable = true)\n",
      " |-- embedding_132: float (nullable = true)\n",
      " |-- embedding_133: float (nullable = true)\n",
      " |-- embedding_134: float (nullable = true)\n",
      " |-- embedding_135: float (nullable = true)\n",
      " |-- embedding_136: float (nullable = true)\n",
      " |-- embedding_137: float (nullable = true)\n",
      " |-- embedding_138: float (nullable = true)\n",
      " |-- embedding_139: float (nullable = true)\n",
      " |-- embedding_140: float (nullable = true)\n",
      " |-- embedding_141: float (nullable = true)\n",
      " |-- embedding_142: float (nullable = true)\n",
      " |-- embedding_143: float (nullable = true)\n",
      " |-- embedding_144: float (nullable = true)\n",
      " |-- embedding_145: float (nullable = true)\n",
      " |-- embedding_146: float (nullable = true)\n",
      " |-- embedding_147: float (nullable = true)\n",
      " |-- embedding_148: float (nullable = true)\n",
      " |-- embedding_149: float (nullable = true)\n",
      " |-- embedding_150: float (nullable = true)\n",
      " |-- embedding_151: float (nullable = true)\n",
      " |-- embedding_152: float (nullable = true)\n",
      " |-- embedding_153: float (nullable = true)\n",
      " |-- embedding_154: float (nullable = true)\n",
      " |-- embedding_155: float (nullable = true)\n",
      " |-- embedding_156: float (nullable = true)\n",
      " |-- embedding_157: float (nullable = true)\n",
      " |-- embedding_158: float (nullable = true)\n",
      " |-- embedding_159: float (nullable = true)\n",
      " |-- embedding_160: float (nullable = true)\n",
      " |-- embedding_161: float (nullable = true)\n",
      " |-- embedding_162: float (nullable = true)\n",
      " |-- embedding_163: float (nullable = true)\n",
      " |-- embedding_164: float (nullable = true)\n",
      " |-- embedding_165: float (nullable = true)\n",
      " |-- embedding_166: float (nullable = true)\n",
      " |-- embedding_167: float (nullable = true)\n",
      " |-- embedding_168: float (nullable = true)\n",
      " |-- embedding_169: float (nullable = true)\n",
      " |-- embedding_170: float (nullable = true)\n",
      " |-- embedding_171: float (nullable = true)\n",
      " |-- embedding_172: float (nullable = true)\n",
      " |-- embedding_173: float (nullable = true)\n",
      " |-- embedding_174: float (nullable = true)\n",
      " |-- embedding_175: float (nullable = true)\n",
      " |-- embedding_176: float (nullable = true)\n",
      " |-- embedding_177: float (nullable = true)\n",
      " |-- embedding_178: float (nullable = true)\n",
      " |-- embedding_179: float (nullable = true)\n",
      " |-- embedding_180: float (nullable = true)\n",
      " |-- embedding_181: float (nullable = true)\n",
      " |-- embedding_182: float (nullable = true)\n",
      " |-- embedding_183: float (nullable = true)\n",
      " |-- embedding_184: float (nullable = true)\n",
      " |-- embedding_185: float (nullable = true)\n",
      " |-- embedding_186: float (nullable = true)\n",
      " |-- embedding_187: float (nullable = true)\n",
      " |-- embedding_188: float (nullable = true)\n",
      " |-- embedding_189: float (nullable = true)\n",
      " |-- embedding_190: float (nullable = true)\n",
      " |-- embedding_191: float (nullable = true)\n",
      " |-- embedding_192: float (nullable = true)\n",
      " |-- embedding_193: float (nullable = true)\n",
      " |-- embedding_194: float (nullable = true)\n",
      " |-- embedding_195: float (nullable = true)\n",
      " |-- embedding_196: float (nullable = true)\n",
      " |-- embedding_197: float (nullable = true)\n",
      " |-- embedding_198: float (nullable = true)\n",
      " |-- embedding_199: float (nullable = true)\n",
      " |-- embedding_200: float (nullable = true)\n",
      " |-- embedding_201: float (nullable = true)\n",
      " |-- embedding_202: float (nullable = true)\n",
      " |-- embedding_203: float (nullable = true)\n",
      " |-- embedding_204: float (nullable = true)\n",
      " |-- embedding_205: float (nullable = true)\n",
      " |-- embedding_206: float (nullable = true)\n",
      " |-- embedding_207: float (nullable = true)\n",
      " |-- embedding_208: float (nullable = true)\n",
      " |-- embedding_209: float (nullable = true)\n",
      " |-- embedding_210: float (nullable = true)\n",
      " |-- embedding_211: float (nullable = true)\n",
      " |-- embedding_212: float (nullable = true)\n",
      " |-- embedding_213: float (nullable = true)\n",
      " |-- embedding_214: float (nullable = true)\n",
      " |-- embedding_215: float (nullable = true)\n",
      " |-- embedding_216: float (nullable = true)\n",
      " |-- embedding_217: float (nullable = true)\n",
      " |-- embedding_218: float (nullable = true)\n",
      " |-- embedding_219: float (nullable = true)\n",
      " |-- embedding_220: float (nullable = true)\n",
      " |-- embedding_221: float (nullable = true)\n",
      " |-- embedding_222: float (nullable = true)\n",
      " |-- embedding_223: float (nullable = true)\n",
      " |-- embedding_224: float (nullable = true)\n",
      " |-- embedding_225: float (nullable = true)\n",
      " |-- embedding_226: float (nullable = true)\n",
      " |-- embedding_227: float (nullable = true)\n",
      " |-- embedding_228: float (nullable = true)\n",
      " |-- embedding_229: float (nullable = true)\n",
      " |-- embedding_230: float (nullable = true)\n",
      " |-- embedding_231: float (nullable = true)\n",
      " |-- embedding_232: float (nullable = true)\n",
      " |-- embedding_233: float (nullable = true)\n",
      " |-- embedding_234: float (nullable = true)\n",
      " |-- embedding_235: float (nullable = true)\n",
      " |-- embedding_236: float (nullable = true)\n",
      " |-- embedding_237: float (nullable = true)\n",
      " |-- embedding_238: float (nullable = true)\n",
      " |-- embedding_239: float (nullable = true)\n",
      " |-- embedding_240: float (nullable = true)\n",
      " |-- embedding_241: float (nullable = true)\n",
      " |-- embedding_242: float (nullable = true)\n",
      " |-- embedding_243: float (nullable = true)\n",
      " |-- embedding_244: float (nullable = true)\n",
      " |-- embedding_245: float (nullable = true)\n",
      " |-- embedding_246: float (nullable = true)\n",
      " |-- embedding_247: float (nullable = true)\n",
      " |-- embedding_248: float (nullable = true)\n",
      " |-- embedding_249: float (nullable = true)\n",
      " |-- embedding_250: float (nullable = true)\n",
      " |-- embedding_251: float (nullable = true)\n",
      " |-- embedding_252: float (nullable = true)\n",
      " |-- embedding_253: float (nullable = true)\n",
      " |-- embedding_254: float (nullable = true)\n",
      " |-- embedding_255: float (nullable = true)\n",
      " |-- embedding_256: float (nullable = true)\n",
      " |-- embedding_257: float (nullable = true)\n",
      " |-- embedding_258: float (nullable = true)\n",
      " |-- embedding_259: float (nullable = true)\n",
      " |-- embedding_260: float (nullable = true)\n",
      " |-- embedding_261: float (nullable = true)\n",
      " |-- embedding_262: float (nullable = true)\n",
      " |-- embedding_263: float (nullable = true)\n",
      " |-- embedding_264: float (nullable = true)\n",
      " |-- embedding_265: float (nullable = true)\n",
      " |-- embedding_266: float (nullable = true)\n",
      " |-- embedding_267: float (nullable = true)\n",
      " |-- embedding_268: float (nullable = true)\n",
      " |-- embedding_269: float (nullable = true)\n",
      " |-- embedding_270: float (nullable = true)\n",
      " |-- embedding_271: float (nullable = true)\n",
      " |-- embedding_272: float (nullable = true)\n",
      " |-- embedding_273: float (nullable = true)\n",
      " |-- embedding_274: float (nullable = true)\n",
      " |-- embedding_275: float (nullable = true)\n",
      " |-- embedding_276: float (nullable = true)\n",
      " |-- embedding_277: float (nullable = true)\n",
      " |-- embedding_278: float (nullable = true)\n",
      " |-- embedding_279: float (nullable = true)\n",
      " |-- embedding_280: float (nullable = true)\n",
      " |-- embedding_281: float (nullable = true)\n",
      " |-- embedding_282: float (nullable = true)\n",
      " |-- embedding_283: float (nullable = true)\n",
      " |-- embedding_284: float (nullable = true)\n",
      " |-- embedding_285: float (nullable = true)\n",
      " |-- embedding_286: float (nullable = true)\n",
      " |-- embedding_287: float (nullable = true)\n",
      " |-- embedding_288: float (nullable = true)\n",
      " |-- embedding_289: float (nullable = true)\n",
      " |-- embedding_290: float (nullable = true)\n",
      " |-- embedding_291: float (nullable = true)\n",
      " |-- embedding_292: float (nullable = true)\n",
      " |-- embedding_293: float (nullable = true)\n",
      " |-- embedding_294: float (nullable = true)\n",
      " |-- embedding_295: float (nullable = true)\n",
      " |-- embedding_296: float (nullable = true)\n",
      " |-- embedding_297: float (nullable = true)\n",
      " |-- embedding_298: float (nullable = true)\n",
      " |-- embedding_299: float (nullable = true)\n",
      " |-- embedding_300: float (nullable = true)\n",
      " |-- embedding_301: float (nullable = true)\n",
      " |-- embedding_302: float (nullable = true)\n",
      " |-- embedding_303: float (nullable = true)\n",
      " |-- embedding_304: float (nullable = true)\n",
      " |-- embedding_305: float (nullable = true)\n",
      " |-- embedding_306: float (nullable = true)\n",
      " |-- embedding_307: float (nullable = true)\n",
      " |-- embedding_308: float (nullable = true)\n",
      " |-- embedding_309: float (nullable = true)\n",
      " |-- embedding_310: float (nullable = true)\n",
      " |-- embedding_311: float (nullable = true)\n",
      " |-- embedding_312: float (nullable = true)\n",
      " |-- embedding_313: float (nullable = true)\n",
      " |-- embedding_314: float (nullable = true)\n",
      " |-- embedding_315: float (nullable = true)\n",
      " |-- embedding_316: float (nullable = true)\n",
      " |-- embedding_317: float (nullable = true)\n",
      " |-- embedding_318: float (nullable = true)\n",
      " |-- embedding_319: float (nullable = true)\n",
      " |-- embedding_320: float (nullable = true)\n",
      " |-- embedding_321: float (nullable = true)\n",
      " |-- embedding_322: float (nullable = true)\n",
      " |-- embedding_323: float (nullable = true)\n",
      " |-- embedding_324: float (nullable = true)\n",
      " |-- embedding_325: float (nullable = true)\n",
      " |-- embedding_326: float (nullable = true)\n",
      " |-- embedding_327: float (nullable = true)\n",
      " |-- embedding_328: float (nullable = true)\n",
      " |-- embedding_329: float (nullable = true)\n",
      " |-- embedding_330: float (nullable = true)\n",
      " |-- embedding_331: float (nullable = true)\n",
      " |-- embedding_332: float (nullable = true)\n",
      " |-- embedding_333: float (nullable = true)\n",
      " |-- embedding_334: float (nullable = true)\n",
      " |-- embedding_335: float (nullable = true)\n",
      " |-- embedding_336: float (nullable = true)\n",
      " |-- embedding_337: float (nullable = true)\n",
      " |-- embedding_338: float (nullable = true)\n",
      " |-- embedding_339: float (nullable = true)\n",
      " |-- embedding_340: float (nullable = true)\n",
      " |-- embedding_341: float (nullable = true)\n",
      " |-- embedding_342: float (nullable = true)\n",
      " |-- embedding_343: float (nullable = true)\n",
      " |-- embedding_344: float (nullable = true)\n",
      " |-- embedding_345: float (nullable = true)\n",
      " |-- embedding_346: float (nullable = true)\n",
      " |-- embedding_347: float (nullable = true)\n",
      " |-- embedding_348: float (nullable = true)\n",
      " |-- embedding_349: float (nullable = true)\n",
      " |-- embedding_350: float (nullable = true)\n",
      " |-- embedding_351: float (nullable = true)\n",
      " |-- embedding_352: float (nullable = true)\n",
      " |-- embedding_353: float (nullable = true)\n",
      " |-- embedding_354: float (nullable = true)\n",
      " |-- embedding_355: float (nullable = true)\n",
      " |-- embedding_356: float (nullable = true)\n",
      " |-- embedding_357: float (nullable = true)\n",
      " |-- embedding_358: float (nullable = true)\n",
      " |-- embedding_359: float (nullable = true)\n",
      " |-- embedding_360: float (nullable = true)\n",
      " |-- embedding_361: float (nullable = true)\n",
      " |-- embedding_362: float (nullable = true)\n",
      " |-- embedding_363: float (nullable = true)\n",
      " |-- embedding_364: float (nullable = true)\n",
      " |-- embedding_365: float (nullable = true)\n",
      " |-- embedding_366: float (nullable = true)\n",
      " |-- embedding_367: float (nullable = true)\n",
      " |-- embedding_368: float (nullable = true)\n",
      " |-- embedding_369: float (nullable = true)\n",
      " |-- embedding_370: float (nullable = true)\n",
      " |-- embedding_371: float (nullable = true)\n",
      " |-- embedding_372: float (nullable = true)\n",
      " |-- embedding_373: float (nullable = true)\n",
      " |-- embedding_374: float (nullable = true)\n",
      " |-- embedding_375: float (nullable = true)\n",
      " |-- embedding_376: float (nullable = true)\n",
      " |-- embedding_377: float (nullable = true)\n",
      " |-- embedding_378: float (nullable = true)\n",
      " |-- embedding_379: float (nullable = true)\n",
      " |-- embedding_380: float (nullable = true)\n",
      " |-- embedding_381: float (nullable = true)\n",
      " |-- embedding_382: float (nullable = true)\n",
      " |-- embedding_383: float (nullable = true)\n",
      "\n"
     ]
    }
   ],
   "source": [
    "df_balanced.printSchema()"
   ]
  },
  {
   "cell_type": "markdown",
   "id": "93285c62-47fd-4989-b0c3-90494c5923d3",
   "metadata": {},
   "source": [
    "## Prepare train and validation sets"
   ]
  },
  {
   "cell_type": "code",
   "execution_count": 67,
   "id": "7f8e94ad-055a-4bb6-b52d-62e798fc89bb",
   "metadata": {},
   "outputs": [
    {
     "name": "stderr",
     "output_type": "stream",
     "text": [
      "                                                                                \r"
     ]
    }
   ],
   "source": [
    "count = df_balanced.count()\n",
    "train_count = int(count * 0.8)\n",
    "\n",
    "df_balanced = df_balanced.orderBy(rand())  # Shuffle the data\n",
    "\n",
    "train = df_balanced.limit(train_count)\n",
    "validation = df_balanced.subtract(train)"
   ]
  },
  {
   "cell_type": "markdown",
   "id": "84b401f0-18d8-4805-8ded-9ea559141bb5",
   "metadata": {},
   "source": [
    "## Take a glance at each"
   ]
  },
  {
   "cell_type": "code",
   "execution_count": 68,
   "id": "e90b40ea-df5c-43aa-b875-f5bc2a716c5d",
   "metadata": {},
   "outputs": [
    {
     "data": {
      "text/plain": [
       "800"
      ]
     },
     "execution_count": 68,
     "metadata": {},
     "output_type": "execute_result"
    }
   ],
   "source": [
    "train.count()"
   ]
  },
  {
   "cell_type": "code",
   "execution_count": 69,
   "id": "3455aaeb-98aa-4028-85d7-3bd9755f0717",
   "metadata": {},
   "outputs": [],
   "source": [
    "#train.limit(5).toPandas()"
   ]
  },
  {
   "cell_type": "code",
   "execution_count": 70,
   "id": "11c05742-742e-429a-ae99-2a061afa3c8e",
   "metadata": {},
   "outputs": [
    {
     "name": "stdout",
     "output_type": "stream",
     "text": [
      "+-------------+-----+\n",
      "|sci_fi_appeal|count|\n",
      "+-------------+-----+\n",
      "|            0|  401|\n",
      "|            1|  399|\n",
      "+-------------+-----+\n",
      "\n"
     ]
    }
   ],
   "source": [
    "train.groupBy('sci_fi_appeal').count().show()"
   ]
  },
  {
   "cell_type": "code",
   "execution_count": 71,
   "id": "0007ceed-0be5-4807-b02e-9640a1633ab3",
   "metadata": {},
   "outputs": [
    {
     "name": "stderr",
     "output_type": "stream",
     "text": [
      "                                                                                \r"
     ]
    },
    {
     "data": {
      "text/plain": [
       "200"
      ]
     },
     "execution_count": 71,
     "metadata": {},
     "output_type": "execute_result"
    }
   ],
   "source": [
    "validation.count()"
   ]
  },
  {
   "cell_type": "code",
   "execution_count": 72,
   "id": "76c78e9c-56a8-4532-9fe1-fb0099071875",
   "metadata": {},
   "outputs": [],
   "source": [
    "#validation.limit(5).toPandas()"
   ]
  },
  {
   "cell_type": "code",
   "execution_count": 73,
   "id": "4ce5e80a-5d39-43a9-a325-82aac3ba4f5e",
   "metadata": {},
   "outputs": [
    {
     "name": "stderr",
     "output_type": "stream",
     "text": [
      "[Stage 252:>                                                        (0 + 1) / 1]\r"
     ]
    },
    {
     "name": "stdout",
     "output_type": "stream",
     "text": [
      "+-------------+-----+\n",
      "|sci_fi_appeal|count|\n",
      "+-------------+-----+\n",
      "|            1|  101|\n",
      "|            0|   99|\n",
      "+-------------+-----+\n",
      "\n"
     ]
    },
    {
     "name": "stderr",
     "output_type": "stream",
     "text": [
      "                                                                                \r"
     ]
    }
   ],
   "source": [
    "validation.groupBy('sci_fi_appeal').count().show()"
   ]
  },
  {
   "cell_type": "code",
   "execution_count": 74,
   "id": "44a10878-21ba-4c0f-a4ca-a4b4e2ce9cf0",
   "metadata": {},
   "outputs": [
    {
     "name": "stderr",
     "output_type": "stream",
     "text": [
      "                                                                                \r"
     ]
    }
   ],
   "source": [
    "train.coalesce(1).write.csv('train.csv', header=False, mode='overwrite')"
   ]
  },
  {
   "cell_type": "code",
   "execution_count": 75,
   "id": "4df10814-ddaf-439d-8b86-a3cb117fa738",
   "metadata": {},
   "outputs": [
    {
     "name": "stderr",
     "output_type": "stream",
     "text": [
      "25/04/13 20:58:54 WARN DAGScheduler: Broadcasting large task binary with size 1150.9 KiB\n"
     ]
    }
   ],
   "source": [
    "validation.coalesce(1).write.csv('validation.csv', header=False, mode='overwrite')"
   ]
  },
  {
   "cell_type": "markdown",
   "id": "d696cf5f-66e8-49ce-b067-ae5344f12180",
   "metadata": {},
   "source": [
    "# Final Training Data Format"
   ]
  },
  {
   "cell_type": "markdown",
   "id": "907cd44d-7b97-489e-9664-9121c91c17ec",
   "metadata": {},
   "source": [
    "The training data (train.csv, validation.csv) will look like this (CSV format, no header, target as first column for SageMaker XGBoost):\n",
    "\n",
    "1,72.5,1500,8.2,2023,0.12,...,0.45 <br />\n",
    "0,45.2,300,6.5,2019,-0.23,...,0.67\n",
    "\n",
    "* First column: sci_fi_appeal (0 or 1).\n",
    "* Next 4 columns: popularity, vote_count, vote_average, release_year.\n",
    "* Last 384 columns: overview_embedding (384-dimensional vector).\n",
    "\n",
    "## What Each Column Does for Training\n",
    "* sci_fi_appeal: The target variable—XGBoost learns to predict this based on the features.\n",
    "* popularity: Helps the model understand if a movie’s buzz correlates with Sci-Fi appeal (e.g., popular Sci-Fi movies might have higher appeal).\n",
    "* vote_count: Acts as a weighting factor for vote_average—movies with more votes have more reliable ratings, which might influence appeal.\n",
    "* vote_average: A key feature since it’s part of the target definition (sci_fi_appeal = 1 if vote_average > 7). The model learns how this interacts with other features.\n",
    "* release_year: Captures temporal patterns (e.g., modern Sci-Fi movies might appeal more due to better effects).\n",
    "* overview_embedding: Provides semantic context—movies with overview texts containing Sci-Fi themes (e.g., “space”, “aliens”) might have higher appeal."
   ]
  },
  {
   "cell_type": "code",
   "execution_count": null,
   "id": "8a458eba-a2c0-4de5-a133-759cb852af25",
   "metadata": {},
   "outputs": [],
   "source": []
  }
 ],
 "metadata": {
  "kernelspec": {
   "display_name": "Python 3 (ipykernel)",
   "language": "python",
   "name": "python3"
  },
  "language_info": {
   "codemirror_mode": {
    "name": "ipython",
    "version": 3
   },
   "file_extension": ".py",
   "mimetype": "text/x-python",
   "name": "python",
   "nbconvert_exporter": "python",
   "pygments_lexer": "ipython3",
   "version": "3.12.7"
  }
 },
 "nbformat": 4,
 "nbformat_minor": 5
}
